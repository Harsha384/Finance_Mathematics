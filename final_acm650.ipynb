{
 "cells": [
  {
   "cell_type": "markdown",
   "metadata": {},
   "source": [
    "# ACM 650 (Nintendo)\n",
    "### Volatility Calculation\n",
    "#### Directly download the data from Yahoo finance to calculate the volatility"
   ]
  },
  {
   "cell_type": "code",
   "execution_count": 33,
   "metadata": {},
   "outputs": [
    {
     "name": "stdout",
     "output_type": "stream",
     "text": [
      "[*********************100%***********************]  1 of 1 downloaded\n",
      "Date\n",
      "1996-11-19    0.000000\n",
      "1996-11-20    0.006921\n",
      "1996-11-21   -0.006921\n",
      "1996-11-22    0.013793\n",
      "1996-11-25    0.000000\n",
      "1996-11-26    0.013606\n",
      "1996-11-27    0.000000\n",
      "1996-11-29   -0.020478\n",
      "1996-12-02   -0.035091\n",
      "1996-12-03    0.014185\n",
      "1996-12-04    0.013986\n",
      "1996-12-05    0.013793\n",
      "1996-12-06    0.013606\n",
      "1996-12-09    0.006734\n",
      "1996-12-10    0.033006\n",
      "1996-12-11   -0.026318\n",
      "1996-12-12   -0.013423\n",
      "1996-12-13   -0.041385\n",
      "1996-12-16    0.041385\n",
      "1996-12-17    0.000000\n",
      "1996-12-18   -0.013606\n",
      "1996-12-19    0.000000\n",
      "1996-12-20    0.013606\n",
      "1996-12-23   -0.041385\n",
      "1996-12-24    0.041385\n",
      "1996-12-26   -0.013606\n",
      "1996-12-27    0.000000\n",
      "1996-12-30    0.000000\n",
      "1996-12-31    0.000000\n",
      "1997-01-02    0.000000\n",
      "                ...   \n",
      "2018-10-02   -0.000863\n",
      "2018-10-03   -0.017862\n",
      "2018-10-04   -0.028988\n",
      "2018-10-05    0.021266\n",
      "2018-10-08   -0.006221\n",
      "2018-10-09   -0.010530\n",
      "2018-10-10   -0.028557\n",
      "2018-10-11   -0.008378\n",
      "2018-10-12    0.030155\n",
      "2018-10-15   -0.011403\n",
      "2018-10-16    0.021780\n",
      "2018-10-17   -0.010377\n",
      "2018-10-18   -0.015309\n",
      "2018-10-19   -0.039451\n",
      "2018-10-22    0.004302\n",
      "2018-10-23   -0.006700\n",
      "2018-10-24   -0.038424\n",
      "2018-10-25    0.002492\n",
      "2018-10-26   -0.032889\n",
      "2018-10-29   -0.019216\n",
      "2018-10-30   -0.019593\n",
      "2018-10-31    0.045219\n",
      "2018-11-01    0.006622\n",
      "2018-11-02   -0.003815\n",
      "2018-11-05   -0.013599\n",
      "2018-11-06    0.004896\n",
      "2018-11-07    0.035605\n",
      "2018-11-08    0.012818\n",
      "2018-11-09   -0.018041\n",
      "2018-11-12   -0.030125\n",
      "Name: log, Length: 5533, dtype: float64\n"
     ]
    },
    {
     "data": {
      "image/png": "[encoded data removed]",
      "text/plain": [
       "<matplotlib.figure.Figure at 0x1ba932d3748>"
      ]
     },
     "metadata": {},
     "output_type": "display_data"
    }
   ],
   "source": [
    "import numpy as np\n",
    "import pandas as pd\n",
    "import pandas_datareader.data as pdr\n",
    "import fix_yahoo_finance as yf\n",
    "import arch\n",
    "import matplotlib.pyplot as plt\n",
    "from statsmodels.graphics.tsaplots import plot_acf\n",
    "yf.pdr_override()\n",
    "\n",
    "\n",
    "class stock_vol:\n",
    "\n",
    "    def __init__(self, tk, start, end):\n",
    "        self.tk = tk\n",
    "        self.start = start\n",
    "        self.end = end\n",
    "        all_data = pdr.get_data_yahoo(self.tk, start=self.start, end=self.end)\n",
    "        self.stock_data = pd.DataFrame(all_data['Adj Close'], columns=[\"Adj Close\"])\n",
    "        self.stock_data[\"log\"] = np.log(self.stock_data)-np.log(self.stock_data.shift(1))\n",
    "\n",
    "    def mean_sigma(self):\n",
    "        st = self.stock_data[\"log\"].dropna().ewm(span=252).std()\n",
    "        sigma = st.iloc[-1]\n",
    "        return sigma\n",
    "\n",
    "    def garch_sigma(self):\n",
    "        model = arch.arch_model(self.stock_data[\"log\"].dropna(), mean='Zero', vol='GARCH', p=1, q=1)\n",
    "        model_fit = model.fit()\n",
    "        forecast = model_fit.forecast(horizon=1)\n",
    "        var = forecast.variance.iloc[-1]\n",
    "        sigma = float(np.sqrt(var))\n",
    "        return sigma\n",
    "\n",
    "\n",
    "if __name__ == \"__main__\":\n",
    "    vol = stock_vol(\"NTDOY\", start=\"1996-11-18\", end=\"2018-11-12\")\n",
    "    test = vol.stock_data[\"log\"].dropna()\n",
    "    print(test)\n",
    "    fig = plot_acf(test)\n",
    "    plt.show()"
   ]
  },
  {
   "cell_type": "code",
   "execution_count": 34,
   "metadata": {},
   "outputs": [
    {
     "name": "stdout",
     "output_type": "stream",
     "text": [
      "Volatility = 0.36187449076675565\n"
     ]
    }
   ],
   "source": [
    "import math as m\n",
    "xi=[]\n",
    "for i in range(0,5533):\n",
    "    xi.append(test[i])\n",
    "x1=0\n",
    "for i in xi:\n",
    "    x1=x1+i**2\n",
    "x1/len(xi)\n",
    "x2=x1/len(xi)\n",
    "mean=sum(xi)/len(xi)\n",
    "volatility=m.sqrt(300)*m.sqrt(len(xi)*(x2-mean)/(len(xi)-1))\n",
    "print('Volatility =', volatility)"
   ]
  },
  {
   "cell_type": "markdown",
   "metadata": {},
   "source": [
    "### Building stock tree"
   ]
  },
  {
   "cell_type": "code",
   "execution_count": 38,
   "metadata": {
    "collapsed": true
   },
   "outputs": [],
   "source": [
    "import sys\n",
    "import numpy as np\n",
    "from math import pow\n",
    "import math\n",
    "# create the Binomial Tree\n",
    "\n",
    "def build_stock_tree(S,T,N,sig):\n",
    "    dt=T/N;\n",
    "    u=math.exp(sig*math.sqrt(dt));\n",
    "    d=math.exp(-sig*math.sqrt(dt));\n",
    "    tree=np.zeros((N+1,N+1))\n",
    "    for i in range(N+1):\n",
    "        for j in range(i+1):\n",
    "            tree[i][j]=S*pow(u,j)*pow(d,i-j)\n",
    "            \n",
    "    \n",
    "    return(tree)"
   ]
  },
  {
   "cell_type": "code",
   "execution_count": 39,
   "metadata": {},
   "outputs": [
    {
     "name": "stdout",
     "output_type": "stream",
     "text": [
      "100.0            \t0.0               \t0.0               \t0.0               \t0.0               \n",
      "87.20301951764252\t114.67492817696348\t0.0               \t0.0               \t0.0               \n",
      "76.0436661299434 \t99.99999999999999 \t131.50339152391732\t0.0               \t0.0               \n",
      "66.31237301722545\t87.2030195176425  \t114.67492817696346\t150.80141978032327\t0.0               \n",
      "57.82639158482302\t76.0436661299434  \t99.99999999999999 \t131.50339152391732\t172.93141982292687\n"
     ]
    }
   ],
   "source": [
    "s = [[str(e) for e in row] for row in build_stock_tree(100,0.5,4,0.3873)]\n",
    "lens = [max(map(len, col)) for col in zip(*s)]\n",
    "fmt = '\\t'.join('{{:{}}}'.format(x) for x in lens)\n",
    "table = [fmt.format(*row) for row in s]\n",
    "print('\\n'.join(table))"
   ]
  },
  {
   "cell_type": "markdown",
   "metadata": {},
   "source": [
    "### Building the Cox-Ross-Rubinstein tree"
   ]
  },
  {
   "cell_type": "code",
   "execution_count": 42,
   "metadata": {
    "collapsed": true
   },
   "outputs": [],
   "source": [
    "import numpy as np\n",
    "def CRRTree(type,S0, K, r, sigma,Lsig, T, N,american=\"false\"):\n",
    "    #we improve the previous tree by checking for early exercise for american options\n",
    "   \n",
    "    #calculate delta T    \n",
    "    deltaT = float(T) / N\n",
    " \n",
    "    # up and down factor will be constant for the tree so we calculate outside the loop\n",
    "    u = np.exp(sigma * np.sqrt(deltaT))\n",
    "    d = np.exp(-sigma * np.sqrt(deltaT))\n",
    "    \n",
    "    #to work with vector we need to init the arrays using numpy\n",
    "    fs =  np.asarray([0.0 for i in range(N + 1)])\n",
    "        \n",
    "    #we need the stock tree for calculations of expiration values\n",
    "    fs2 = np.asarray([(S0 * u**j * d**(N - j)) for j in range(N + 1)])\n",
    "    \n",
    "    #we vectorize the strikes as well so the expiration check will be faster\n",
    "    fs3 =np.asarray( [float(K) for i in range(N + 1)])\n",
    "    \n",
    " \n",
    "   \n",
    "    a = np.exp(r * deltaT)\n",
    "    p=((np.exp((r-Lsig)*deltaT))-d)/(u-d);\n",
    "    oneMinusP = 1.0 - p\n",
    " \n",
    "   \n",
    "    # Compute the leaves, f_{N, j}\n",
    "    if type ==\"C\":\n",
    "        fs[:] = np.maximum(fs2-fs3, 0.0)\n",
    "    else:\n",
    "        fs[:] = np.maximum(-fs2+fs3, 0.0)\n",
    "    \n",
    "   \n",
    "    #calculate backward the option prices\n",
    "    for i in range(N-1, -1, -1):\n",
    "       fs[:-1]=np.exp(-r * deltaT) * (p * fs[1:] + oneMinusP * fs[:-1])\n",
    "       fs2[:]=fs2[:]*u\n",
    "      \n",
    "       if american=='true':\n",
    "           #Simply check if the option is worth more alive or dead\n",
    "           if type ==\"C\":\n",
    "                fs[:]=np.maximum(fs[:],fs2[:]-fs3[:])\n",
    "           else:\n",
    "                fs[:]=np.maximum(fs[:],-fs2[:]+fs3[:])\n",
    "                \n",
    "    # print fs\n",
    "    return fs[0]"
   ]
  },
  {
   "cell_type": "code",
   "execution_count": 43,
   "metadata": {},
   "outputs": [
    {
     "name": "stdout",
     "output_type": "stream",
     "text": [
      "7.68586202679695\n",
      "6.383760934569554\n",
      "5.977490552599485\n",
      "6.326331111726902\n",
      "5.625757594227075\n",
      "6.219994733262886\n",
      "5.522422355120405\n",
      "6.131037298909565\n",
      "5.713060699751536\n"
     ]
    }
   ],
   "source": [
    "for i in range(1,10):\n",
    "    print(CRRTree('p',100, 90, 0.0221,0.3873,0.0097, 0.5, N=i,american=\"false\"))"
   ]
  },
  {
   "cell_type": "code",
   "execution_count": 47,
   "metadata": {},
   "outputs": [
    {
     "name": "stdout",
     "output_type": "stream",
     "text": [
      "18.191061822901947\n",
      "16.88896073067455\n",
      "16.482690348704512\n",
      "16.831530907831876\n",
      "16.13095739033214\n",
      "16.72519452936785\n",
      "16.02762215122547\n",
      "16.636237095014494\n",
      "16.21826049585653\n"
     ]
    }
   ],
   "source": [
    "for i in range(1,10):\n",
    "    print(CRRTree('C',100, 90, 0.0221,0.3873,0.0097, 0.5, N=i,american=\"false\"))"
   ]
  },
  {
   "cell_type": "markdown",
   "metadata": {},
   "source": [
    "### Building the Log normal tree"
   ]
  },
  {
   "cell_type": "code",
   "execution_count": 45,
   "metadata": {
    "collapsed": true
   },
   "outputs": [],
   "source": [
    "import numpy as np\n",
    "def LogNormalTree(type,S0, K, r, sigma,Lsig, T, N,american=\"false\"):\n",
    "    #we improve the previous tree by checking for early exercise for american options\n",
    "   \n",
    "    #calculate delta T    \n",
    "    deltaT = float(T) / N\n",
    " \n",
    "    # up and down factor will be constant for the tree so we calculate outside the loop\n",
    "   \n",
    "    u = np.exp((r-Lsig-(1/2)*sigma*sigma)*deltaT+sigma*np.sqrt(deltaT));\n",
    "    d = np.exp((r-Lsig-(1/2)*sigma*sigma)*deltaT-sigma*np.sqrt(deltaT));\n",
    "    \n",
    "    \n",
    "    #to work with vector we need to init the arrays using numpy\n",
    "    fs =  np.asarray([0.0 for i in range(N + 1)])\n",
    "        \n",
    "    #we need the stock tree for calculations of expiration values\n",
    "    fs2 = np.asarray([(S0 * u**j * d**(N - j)) for j in range(N + 1)])\n",
    "    \n",
    "    #we vectorize the strikes as well so the expiration check will be faster\n",
    "    fs3 =np.asarray( [float(K) for i in range(N + 1)])\n",
    "    \n",
    " \n",
    "   \n",
    "    a = np.exp(r * deltaT)\n",
    "    p=((np.exp((r-Lsig)*deltaT))-d)/(u-d);\n",
    "    oneMinusP = 1.0 - p\n",
    " \n",
    "   \n",
    "    # Compute the leaves, f_{N, j}\n",
    "    if type ==\"C\":\n",
    "        fs[:] = np.maximum(fs2-fs3, 0.0)\n",
    "    else:\n",
    "        fs[:] = np.maximum(-fs2+fs3, 0.0)\n",
    "    \n",
    "   \n",
    "    #calculate backward the option prices\n",
    "    for i in range(N-1, -1, -1):\n",
    "       fs[:-1]=np.exp(-r * deltaT) * (p * fs[1:] + oneMinusP * fs[:-1])\n",
    "       fs2[:]=fs2[:]*u\n",
    "      \n",
    "       if american=='true':\n",
    "           #Simply check if the option is worth more alive or dead\n",
    "           if type ==\"C\":\n",
    "                fs[:]=np.maximum(fs[:],fs2[:]-fs3[:])\n",
    "           else:\n",
    "                fs[:]=np.maximum(fs[:],-fs2[:]+fs3[:])\n",
    "                \n",
    "    # print fs\n",
    "    return fs[0]"
   ]
  },
  {
   "cell_type": "code",
   "execution_count": 46,
   "metadata": {},
   "outputs": [
    {
     "name": "stdout",
     "output_type": "stream",
     "text": [
      "8.046404022182605\n",
      "5.977069542881947\n",
      "6.356717654286955\n",
      "6.125511484784046\n",
      "6.0058994697194965\n",
      "6.119401772682507\n",
      "5.85596328489441\n",
      "6.092300119150403\n",
      "5.772988251315611\n"
     ]
    }
   ],
   "source": [
    "for i in range(1,10):\n",
    "    print(LogNormalTree('p',100, 90, 0.0221,0.3873,0.0097, 0.5, N=i,american=\"false\"))"
   ]
  },
  {
   "cell_type": "code",
   "execution_count": 48,
   "metadata": {},
   "outputs": [
    {
     "name": "stdout",
     "output_type": "stream",
     "text": [
      "18.55160381828761\n",
      "16.48226933898695\n",
      "16.86191745039198\n",
      "16.630711280889006\n",
      "16.511099265824566\n",
      "16.624601568787483\n",
      "16.361163080999482\n",
      "16.597499915255344\n",
      "16.278188047420624\n"
     ]
    }
   ],
   "source": [
    "for i in range(1,10):\n",
    "    print(LogNormalTree('C',100, 90, 0.0221,0.3873,0.0097, 0.5, N=i,american=\"false\"))"
   ]
  },
  {
   "cell_type": "code",
   "execution_count": null,
   "metadata": {
    "collapsed": true
   },
   "outputs": [],
   "source": []
  }
 ],
 "metadata": {
  "kernelspec": {
   "display_name": "Python 3",
   "language": "python",
   "name": "python3"
  },
  "language_info": {
   "codemirror_mode": {
    "name": "ipython",
    "version": 3
   },
   "file_extension": ".py",
   "mimetype": "text/x-python",
   "name": "python",
   "nbconvert_exporter": "python",
   "pygments_lexer": "ipython3",
   "version": "3.6.3"
  }
 },
 "nbformat": 4,
 "nbformat_minor": 2
}
